{
  "cells": [
    {
      "cell_type": "markdown",
      "metadata": {
        "id": "eABMBQUub6R0"
      },
      "source": [
        "https://drive.google.com/file/d/1j1qW-rn0qnH4ExfDy2ZTvBHYnTQj_UUo/view?usp=sharing"
      ]
    },
    {
      "cell_type": "code",
      "execution_count": null,
      "metadata": {
        "colab": {
          "base_uri": "https://localhost:8080/"
        },
        "id": "3g1kpFgYcTn6",
        "outputId": "9f4670c8-c722-4c4c-da18-feeb7838dc68"
      },
      "outputs": [
        {
          "output_type": "stream",
          "name": "stdout",
          "text": [
            "/usr/local/lib/python3.9/dist-packages/gdown/cli.py:121: FutureWarning: Option `--id` was deprecated in version 4.3.1 and will be removed in 5.0. You don't need to pass it anymore to use a file ID.\n",
            "  warnings.warn(\n",
            "Downloading...\n",
            "From: https://drive.google.com/uc?id=1j1qW-rn0qnH4ExfDy2ZTvBHYnTQj_UUo\n",
            "To: /content/internship_обработка_текста.zip\n",
            "100% 78.3M/78.3M [00:01<00:00, 75.8MB/s]\n"
          ]
        }
      ],
      "source": [
        "! gdown --id 1j1qW-rn0qnH4ExfDy2ZTvBHYnTQj_UUo"
      ]
    },
    {
      "cell_type": "code",
      "execution_count": null,
      "metadata": {
        "colab": {
          "base_uri": "https://localhost:8080/"
        },
        "id": "rQ_CUUSUdag-",
        "outputId": "4b742bb7-6907-48ec-d1fb-50a615f81ded"
      },
      "outputs": [
        {
          "output_type": "stream",
          "name": "stdout",
          "text": [
            "Archive:  /content/internship_обработка_текста.zip\n",
            "  inflating: train.parquet           \n",
            "  inflating: test.parquet            \n"
          ]
        }
      ],
      "source": [
        "! unzip /content/internship_обработка_текста.zip"
      ]
    },
    {
      "cell_type": "markdown",
      "metadata": {
        "id": "It_m0CpIskXB"
      },
      "source": [
        "ИМПОРТ НЕОБХОДИМЫХ БИБЛИОТЕК"
      ]
    },
    {
      "cell_type": "code",
      "execution_count": null,
      "metadata": {
        "id": "x9W07xGxs2o3"
      },
      "outputs": [],
      "source": [
        "import pandas as pd\n",
        "import json\n",
        "import re\n",
        "import numpy as np\n",
        "import nltk\n",
        "from nltk.corpus import stopwords\n",
        "import string\n",
        "import seaborn as sns\n",
        "from sklearn.linear_model import SGDClassifier\n",
        "from sklearn.multiclass import OneVsRestClassifier\n",
        "from sklearn.model_selection import train_test_split\n",
        "from sklearn.feature_extraction.text import CountVectorizer\n",
        "from sklearn.feature_extraction.text import TfidfTransformer\n",
        "from sklearn.naive_bayes import MultinomialNB\n",
        "from sklearn.model_selection import StratifiedKFold\n",
        "from sklearn.metrics import f1_score, make_scorer\n",
        "from imblearn.pipeline import Pipeline\n",
        "from sklearn.svm import LinearSVC"
      ]
    },
    {
      "cell_type": "markdown",
      "metadata": {
        "id": "NPQ1JRGQuXL6"
      },
      "source": [
        "В ходе исследования нам может понадобиться лемматизация. Поэтому установим дополнительную библиотеку pymorphy2 для этого."
      ]
    },
    {
      "cell_type": "code",
      "execution_count": null,
      "metadata": {
        "colab": {
          "base_uri": "https://localhost:8080/"
        },
        "id": "FohkE3WRuwBl",
        "outputId": "71d23cb0-dae8-4786-ef57-2443e0cf3a23"
      },
      "outputs": [
        {
          "name": "stdout",
          "output_type": "stream",
          "text": [
            "Looking in indexes: https://pypi.org/simple, https://us-python.pkg.dev/colab-wheels/public/simple/\n",
            "Collecting pymorphy2\n",
            "  Downloading pymorphy2-0.9.1-py3-none-any.whl (55 kB)\n",
            "\u001b[?25l     \u001b[90m━━━━━━━━━━━━━━━━━━━━━━━━━━━━━━━━━━━━━━━━\u001b[0m \u001b[32m0.0/55.5 KB\u001b[0m \u001b[31m?\u001b[0m eta \u001b[36m-:--:--\u001b[0m\r\u001b[2K     \u001b[90m━━━━━━━━━━━━━━━━━━━━━━━━━━━━━━━━━━━━━━━━\u001b[0m \u001b[32m55.5/55.5 KB\u001b[0m \u001b[31m6.4 MB/s\u001b[0m eta \u001b[36m0:00:00\u001b[0m\n",
            "\u001b[?25hCollecting dawg-python>=0.7.1\n",
            "  Downloading DAWG_Python-0.7.2-py2.py3-none-any.whl (11 kB)\n",
            "Collecting pymorphy2-dicts-ru<3.0,>=2.4\n",
            "  Downloading pymorphy2_dicts_ru-2.4.417127.4579844-py2.py3-none-any.whl (8.2 MB)\n",
            "\u001b[2K     \u001b[90m━━━━━━━━━━━━━━━━━━━━━━━━━━━━━━━━━━━━━━━━\u001b[0m \u001b[32m8.2/8.2 MB\u001b[0m \u001b[31m57.4 MB/s\u001b[0m eta \u001b[36m0:00:00\u001b[0m\n",
            "\u001b[?25hCollecting docopt>=0.6\n",
            "  Downloading docopt-0.6.2.tar.gz (25 kB)\n",
            "  Preparing metadata (setup.py) ... \u001b[?25l\u001b[?25hdone\n",
            "Building wheels for collected packages: docopt\n",
            "  Building wheel for docopt (setup.py) ... \u001b[?25l\u001b[?25hdone\n",
            "  Created wheel for docopt: filename=docopt-0.6.2-py2.py3-none-any.whl size=13721 sha256=874bb07815c6a1ddd7591241628e401504d75525057c6693e6b3070cf09603bc\n",
            "  Stored in directory: /root/.cache/pip/wheels/70/4a/46/1309fc853b8d395e60bafaf1b6df7845bdd82c95fd59dd8d2b\n",
            "Successfully built docopt\n",
            "Installing collected packages: pymorphy2-dicts-ru, docopt, dawg-python, pymorphy2\n",
            "Successfully installed dawg-python-0.7.2 docopt-0.6.2 pymorphy2-0.9.1 pymorphy2-dicts-ru-2.4.417127.4579844\n"
          ]
        }
      ],
      "source": [
        "%pip install pymorphy2"
      ]
    },
    {
      "cell_type": "code",
      "execution_count": null,
      "metadata": {
        "id": "3A6LxcqsvDUv"
      },
      "outputs": [],
      "source": [
        "import pymorphy2"
      ]
    },
    {
      "cell_type": "markdown",
      "metadata": {
        "id": "pyEB7yMcvLqa"
      },
      "source": [
        "ЧТЕНИЕ ДАННЫХ"
      ]
    },
    {
      "cell_type": "code",
      "execution_count": null,
      "metadata": {
        "colab": {
          "base_uri": "https://localhost:8080/",
          "height": 493
        },
        "id": "o9yhXc-vvP-v",
        "outputId": "0b99cbd7-ed2a-466e-f3bd-44db548dda7b"
      },
      "outputs": [
        {
          "output_type": "execute_result",
          "data": {
            "text/plain": [
              "   product_id  category_id   sale  shop_id           shop_title  rating  \\\n",
              "0      325286        12171  False     9031                Aksik     5.0   \n",
              "1      888134        14233  False    18305                 Sela     5.0   \n",
              "3     1267173        13429  False    16357  ЮНЛАНДИЯ канцтовары     5.0   \n",
              "4     1416943         2789  False    34666        вася-nicotine     4.0   \n",
              "5     1058275        12834  False    26389           Lim Market     4.6   \n",
              "\n",
              "                                         text_fields  \\\n",
              "0  {\"title\": \"Зарядный кабель Borofone BX1 Lightn...   \n",
              "1  {\"title\": \"Трусы Sela\", \"description\": \"Трусы-...   \n",
              "3  {\"title\": \"Гуашь \\\"ЮНЫЙ ВОЛШЕБНИК\\\", 12 цветов...   \n",
              "4  {\"title\": \"Колба для кальяна Крафт (разные цве...   \n",
              "5  {\"title\": \"Пижама женская, однотонная с шортам...   \n",
              "\n",
              "                                       category_name  \n",
              "0  Все категории->Электроника->Смартфоны и телефо...  \n",
              "1  Все категории->Одежда->Женская одежда->Белье и...  \n",
              "3  Все категории->Хобби и творчество->Рисование->...  \n",
              "4  Все категории->Хобби и творчество->Товары для ...  \n",
              "5  Все категории->Одежда->Женская одежда->Домашня...  "
            ],
            "text/html": [
              "\n",
              "  <div id=\"df-1477ea35-9414-42d5-a0e0-feb919dce06e\">\n",
              "    <div class=\"colab-df-container\">\n",
              "      <div>\n",
              "<style scoped>\n",
              "    .dataframe tbody tr th:only-of-type {\n",
              "        vertical-align: middle;\n",
              "    }\n",
              "\n",
              "    .dataframe tbody tr th {\n",
              "        vertical-align: top;\n",
              "    }\n",
              "\n",
              "    .dataframe thead th {\n",
              "        text-align: right;\n",
              "    }\n",
              "</style>\n",
              "<table border=\"1\" class=\"dataframe\">\n",
              "  <thead>\n",
              "    <tr style=\"text-align: right;\">\n",
              "      <th></th>\n",
              "      <th>product_id</th>\n",
              "      <th>category_id</th>\n",
              "      <th>sale</th>\n",
              "      <th>shop_id</th>\n",
              "      <th>shop_title</th>\n",
              "      <th>rating</th>\n",
              "      <th>text_fields</th>\n",
              "      <th>category_name</th>\n",
              "    </tr>\n",
              "  </thead>\n",
              "  <tbody>\n",
              "    <tr>\n",
              "      <th>0</th>\n",
              "      <td>325286</td>\n",
              "      <td>12171</td>\n",
              "      <td>False</td>\n",
              "      <td>9031</td>\n",
              "      <td>Aksik</td>\n",
              "      <td>5.0</td>\n",
              "      <td>{\"title\": \"Зарядный кабель Borofone BX1 Lightn...</td>\n",
              "      <td>Все категории-&gt;Электроника-&gt;Смартфоны и телефо...</td>\n",
              "    </tr>\n",
              "    <tr>\n",
              "      <th>1</th>\n",
              "      <td>888134</td>\n",
              "      <td>14233</td>\n",
              "      <td>False</td>\n",
              "      <td>18305</td>\n",
              "      <td>Sela</td>\n",
              "      <td>5.0</td>\n",
              "      <td>{\"title\": \"Трусы Sela\", \"description\": \"Трусы-...</td>\n",
              "      <td>Все категории-&gt;Одежда-&gt;Женская одежда-&gt;Белье и...</td>\n",
              "    </tr>\n",
              "    <tr>\n",
              "      <th>3</th>\n",
              "      <td>1267173</td>\n",
              "      <td>13429</td>\n",
              "      <td>False</td>\n",
              "      <td>16357</td>\n",
              "      <td>ЮНЛАНДИЯ канцтовары</td>\n",
              "      <td>5.0</td>\n",
              "      <td>{\"title\": \"Гуашь \\\"ЮНЫЙ ВОЛШЕБНИК\\\", 12 цветов...</td>\n",
              "      <td>Все категории-&gt;Хобби и творчество-&gt;Рисование-&gt;...</td>\n",
              "    </tr>\n",
              "    <tr>\n",
              "      <th>4</th>\n",
              "      <td>1416943</td>\n",
              "      <td>2789</td>\n",
              "      <td>False</td>\n",
              "      <td>34666</td>\n",
              "      <td>вася-nicotine</td>\n",
              "      <td>4.0</td>\n",
              "      <td>{\"title\": \"Колба для кальяна Крафт (разные цве...</td>\n",
              "      <td>Все категории-&gt;Хобби и творчество-&gt;Товары для ...</td>\n",
              "    </tr>\n",
              "    <tr>\n",
              "      <th>5</th>\n",
              "      <td>1058275</td>\n",
              "      <td>12834</td>\n",
              "      <td>False</td>\n",
              "      <td>26389</td>\n",
              "      <td>Lim Market</td>\n",
              "      <td>4.6</td>\n",
              "      <td>{\"title\": \"Пижама женская, однотонная с шортам...</td>\n",
              "      <td>Все категории-&gt;Одежда-&gt;Женская одежда-&gt;Домашня...</td>\n",
              "    </tr>\n",
              "  </tbody>\n",
              "</table>\n",
              "</div>\n",
              "      <button class=\"colab-df-convert\" onclick=\"convertToInteractive('df-1477ea35-9414-42d5-a0e0-feb919dce06e')\"\n",
              "              title=\"Convert this dataframe to an interactive table.\"\n",
              "              style=\"display:none;\">\n",
              "        \n",
              "  <svg xmlns=\"http://www.w3.org/2000/svg\" height=\"24px\"viewBox=\"0 0 24 24\"\n",
              "       width=\"24px\">\n",
              "    <path d=\"M0 0h24v24H0V0z\" fill=\"none\"/>\n",
              "    <path d=\"M18.56 5.44l.94 2.06.94-2.06 2.06-.94-2.06-.94-.94-2.06-.94 2.06-2.06.94zm-11 1L8.5 8.5l.94-2.06 2.06-.94-2.06-.94L8.5 2.5l-.94 2.06-2.06.94zm10 10l.94 2.06.94-2.06 2.06-.94-2.06-.94-.94-2.06-.94 2.06-2.06.94z\"/><path d=\"M17.41 7.96l-1.37-1.37c-.4-.4-.92-.59-1.43-.59-.52 0-1.04.2-1.43.59L10.3 9.45l-7.72 7.72c-.78.78-.78 2.05 0 2.83L4 21.41c.39.39.9.59 1.41.59.51 0 1.02-.2 1.41-.59l7.78-7.78 2.81-2.81c.8-.78.8-2.07 0-2.86zM5.41 20L4 18.59l7.72-7.72 1.47 1.35L5.41 20z\"/>\n",
              "  </svg>\n",
              "      </button>\n",
              "      \n",
              "  <style>\n",
              "    .colab-df-container {\n",
              "      display:flex;\n",
              "      flex-wrap:wrap;\n",
              "      gap: 12px;\n",
              "    }\n",
              "\n",
              "    .colab-df-convert {\n",
              "      background-color: #E8F0FE;\n",
              "      border: none;\n",
              "      border-radius: 50%;\n",
              "      cursor: pointer;\n",
              "      display: none;\n",
              "      fill: #1967D2;\n",
              "      height: 32px;\n",
              "      padding: 0 0 0 0;\n",
              "      width: 32px;\n",
              "    }\n",
              "\n",
              "    .colab-df-convert:hover {\n",
              "      background-color: #E2EBFA;\n",
              "      box-shadow: 0px 1px 2px rgba(60, 64, 67, 0.3), 0px 1px 3px 1px rgba(60, 64, 67, 0.15);\n",
              "      fill: #174EA6;\n",
              "    }\n",
              "\n",
              "    [theme=dark] .colab-df-convert {\n",
              "      background-color: #3B4455;\n",
              "      fill: #D2E3FC;\n",
              "    }\n",
              "\n",
              "    [theme=dark] .colab-df-convert:hover {\n",
              "      background-color: #434B5C;\n",
              "      box-shadow: 0px 1px 3px 1px rgba(0, 0, 0, 0.15);\n",
              "      filter: drop-shadow(0px 1px 2px rgba(0, 0, 0, 0.3));\n",
              "      fill: #FFFFFF;\n",
              "    }\n",
              "  </style>\n",
              "\n",
              "      <script>\n",
              "        const buttonEl =\n",
              "          document.querySelector('#df-1477ea35-9414-42d5-a0e0-feb919dce06e button.colab-df-convert');\n",
              "        buttonEl.style.display =\n",
              "          google.colab.kernel.accessAllowed ? 'block' : 'none';\n",
              "\n",
              "        async function convertToInteractive(key) {\n",
              "          const element = document.querySelector('#df-1477ea35-9414-42d5-a0e0-feb919dce06e');\n",
              "          const dataTable =\n",
              "            await google.colab.kernel.invokeFunction('convertToInteractive',\n",
              "                                                     [key], {});\n",
              "          if (!dataTable) return;\n",
              "\n",
              "          const docLinkHtml = 'Like what you see? Visit the ' +\n",
              "            '<a target=\"_blank\" href=https://colab.research.google.com/notebooks/data_table.ipynb>data table notebook</a>'\n",
              "            + ' to learn more about interactive tables.';\n",
              "          element.innerHTML = '';\n",
              "          dataTable['output_type'] = 'display_data';\n",
              "          await google.colab.output.renderOutput(dataTable, element);\n",
              "          const docLink = document.createElement('div');\n",
              "          docLink.innerHTML = docLinkHtml;\n",
              "          element.appendChild(docLink);\n",
              "        }\n",
              "      </script>\n",
              "    </div>\n",
              "  </div>\n",
              "  "
            ]
          },
          "metadata": {},
          "execution_count": 4
        }
      ],
      "source": [
        "data_train= pd.read_parquet(\"/content/train.parquet\", engine='pyarrow')\n",
        "data_train.head()"
      ]
    },
    {
      "cell_type": "code",
      "execution_count": null,
      "metadata": {
        "colab": {
          "base_uri": "https://localhost:8080/"
        },
        "id": "fVWcamQM7uFN",
        "outputId": "8ae253f6-8c48-4f69-bd53-9c46f537cb89"
      },
      "outputs": [
        {
          "data": {
            "text/plain": [
              "(91120, 8)"
            ]
          },
          "execution_count": 48,
          "metadata": {},
          "output_type": "execute_result"
        }
      ],
      "source": [
        "data_train.shape"
      ]
    },
    {
      "cell_type": "markdown",
      "metadata": {
        "id": "YQvzrPTUC67-"
      },
      "source": [
        "Посмотрим, есть ли в датасете незаполненные значения (nan'ы) с помощью data.isna() или data.info() и, если нужно, заменим их на что-то. "
      ]
    },
    {
      "cell_type": "code",
      "execution_count": null,
      "metadata": {
        "colab": {
          "base_uri": "https://localhost:8080/"
        },
        "id": "8meeFflvDOdJ",
        "outputId": "94d031bf-8145-4c4a-9778-a2796514818c"
      },
      "outputs": [
        {
          "data": {
            "text/plain": [
              "product_id       0\n",
              "category_id      0\n",
              "sale             0\n",
              "shop_id          0\n",
              "shop_title       0\n",
              "rating           0\n",
              "text_fields      0\n",
              "category_name    0\n",
              "dtype: int64"
            ]
          },
          "execution_count": 49,
          "metadata": {},
          "output_type": "execute_result"
        }
      ],
      "source": [
        "data_train.isna().sum() # пропущенных нет..."
      ]
    },
    {
      "cell_type": "code",
      "execution_count": null,
      "metadata": {
        "colab": {
          "base_uri": "https://localhost:8080/"
        },
        "id": "5S_Z2ni5DVpI",
        "outputId": "135a96c9-62f4-4496-d833-250c09031666"
      },
      "outputs": [
        {
          "data": {
            "text/plain": [
              "0"
            ]
          },
          "execution_count": 50,
          "metadata": {},
          "output_type": "execute_result"
        }
      ],
      "source": [
        "data_train.duplicated().sum() #проверка на дублирующие строки - дубликатов нет"
      ]
    },
    {
      "cell_type": "markdown",
      "metadata": {
        "id": "ORUmXi-YxHl8"
      },
      "source": [
        "category_id - категория товара, это тот признак, которорый нам необходимо научиться предсказывать. Посмотрим сколько уникальных category_id в датасете"
      ]
    },
    {
      "cell_type": "code",
      "execution_count": null,
      "metadata": {
        "colab": {
          "base_uri": "https://localhost:8080/"
        },
        "id": "QHA8X5Qovfs6",
        "outputId": "707ef58b-c5aa-4db4-836a-2c4576b186bc"
      },
      "outputs": [
        {
          "data": {
            "text/plain": [
              "11937    6590\n",
              "14922    3709\n",
              "13651    1463\n",
              "13143    1460\n",
              "12980    1222\n",
              "         ... \n",
              "12808       2\n",
              "12901       1\n",
              "11549       1\n",
              "11875       1\n",
              "12836       1\n",
              "Name: category_id, Length: 874, dtype: int64"
            ]
          },
          "execution_count": 51,
          "metadata": {},
          "output_type": "execute_result"
        }
      ],
      "source": [
        "data_train['category_id'].value_counts() "
      ]
    },
    {
      "cell_type": "markdown",
      "metadata": {
        "id": "Cf0O6KGU0jsD"
      },
      "source": [
        "Проще всего countplot построить с помощью библиотеки Seaborn."
      ]
    },
    {
      "cell_type": "code",
      "execution_count": null,
      "metadata": {
        "colab": {
          "base_uri": "https://localhost:8080/",
          "height": 297
        },
        "id": "UAU1PvWB0nrD",
        "outputId": "b9f7c61c-ec11-4ccc-af65-93f344f838c4"
      },
      "outputs": [
        {
          "data": {
            "text/plain": [
              "<Axes: xlabel='category_id', ylabel='count'>"
            ]
          },
          "execution_count": 52,
          "metadata": {},
          "output_type": "execute_result"
        },
        {
          "data": {
            "image/png": "[encoded data removed]",
            "text/plain": [
              "<Figure size 432x288 with 1 Axes>"
            ]
          },
          "metadata": {},
          "output_type": "display_data"
        }
      ],
      "source": [
        "sns.countplot(x = 'category_id', data = data_train)"
      ]
    },
    {
      "cell_type": "markdown",
      "metadata": {
        "id": "e04mp4yT340T"
      },
      "source": [
        "Классы сильно несбалансированны. Необходимо удалить из исходного датасете категории, которых очень мало. Оставим примерно 95% от исходного датасета. Создадим вспомогательный датасет, с количеством каждой категории"
      ]
    },
    {
      "cell_type": "code",
      "execution_count": null,
      "metadata": {
        "colab": {
          "base_uri": "https://localhost:8080/",
          "height": 206
        },
        "id": "u13M_RE65JRo",
        "outputId": "a7112dd3-c9f1-4ead-88ff-bf2efcf5b1cd"
      },
      "outputs": [
        {
          "output_type": "execute_result",
          "data": {
            "text/plain": [
              "   category_id  counts\n",
              "0        11937    6590\n",
              "1        14922    3709\n",
              "2        13651    1463\n",
              "3        13143    1460\n",
              "4        12980    1222"
            ],
            "text/html": [
              "\n",
              "  <div id=\"df-5f74ca6c-c0a1-4967-ba94-fa70cc54cea3\">\n",
              "    <div class=\"colab-df-container\">\n",
              "      <div>\n",
              "<style scoped>\n",
              "    .dataframe tbody tr th:only-of-type {\n",
              "        vertical-align: middle;\n",
              "    }\n",
              "\n",
              "    .dataframe tbody tr th {\n",
              "        vertical-align: top;\n",
              "    }\n",
              "\n",
              "    .dataframe thead th {\n",
              "        text-align: right;\n",
              "    }\n",
              "</style>\n",
              "<table border=\"1\" class=\"dataframe\">\n",
              "  <thead>\n",
              "    <tr style=\"text-align: right;\">\n",
              "      <th></th>\n",
              "      <th>category_id</th>\n",
              "      <th>counts</th>\n",
              "    </tr>\n",
              "  </thead>\n",
              "  <tbody>\n",
              "    <tr>\n",
              "      <th>0</th>\n",
              "      <td>11937</td>\n",
              "      <td>6590</td>\n",
              "    </tr>\n",
              "    <tr>\n",
              "      <th>1</th>\n",
              "      <td>14922</td>\n",
              "      <td>3709</td>\n",
              "    </tr>\n",
              "    <tr>\n",
              "      <th>2</th>\n",
              "      <td>13651</td>\n",
              "      <td>1463</td>\n",
              "    </tr>\n",
              "    <tr>\n",
              "      <th>3</th>\n",
              "      <td>13143</td>\n",
              "      <td>1460</td>\n",
              "    </tr>\n",
              "    <tr>\n",
              "      <th>4</th>\n",
              "      <td>12980</td>\n",
              "      <td>1222</td>\n",
              "    </tr>\n",
              "  </tbody>\n",
              "</table>\n",
              "</div>\n",
              "      <button class=\"colab-df-convert\" onclick=\"convertToInteractive('df-5f74ca6c-c0a1-4967-ba94-fa70cc54cea3')\"\n",
              "              title=\"Convert this dataframe to an interactive table.\"\n",
              "              style=\"display:none;\">\n",
              "        \n",
              "  <svg xmlns=\"http://www.w3.org/2000/svg\" height=\"24px\"viewBox=\"0 0 24 24\"\n",
              "       width=\"24px\">\n",
              "    <path d=\"M0 0h24v24H0V0z\" fill=\"none\"/>\n",
              "    <path d=\"M18.56 5.44l.94 2.06.94-2.06 2.06-.94-2.06-.94-.94-2.06-.94 2.06-2.06.94zm-11 1L8.5 8.5l.94-2.06 2.06-.94-2.06-.94L8.5 2.5l-.94 2.06-2.06.94zm10 10l.94 2.06.94-2.06 2.06-.94-2.06-.94-.94-2.06-.94 2.06-2.06.94z\"/><path d=\"M17.41 7.96l-1.37-1.37c-.4-.4-.92-.59-1.43-.59-.52 0-1.04.2-1.43.59L10.3 9.45l-7.72 7.72c-.78.78-.78 2.05 0 2.83L4 21.41c.39.39.9.59 1.41.59.51 0 1.02-.2 1.41-.59l7.78-7.78 2.81-2.81c.8-.78.8-2.07 0-2.86zM5.41 20L4 18.59l7.72-7.72 1.47 1.35L5.41 20z\"/>\n",
              "  </svg>\n",
              "      </button>\n",
              "      \n",
              "  <style>\n",
              "    .colab-df-container {\n",
              "      display:flex;\n",
              "      flex-wrap:wrap;\n",
              "      gap: 12px;\n",
              "    }\n",
              "\n",
              "    .colab-df-convert {\n",
              "      background-color: #E8F0FE;\n",
              "      border: none;\n",
              "      border-radius: 50%;\n",
              "      cursor: pointer;\n",
              "      display: none;\n",
              "      fill: #1967D2;\n",
              "      height: 32px;\n",
              "      padding: 0 0 0 0;\n",
              "      width: 32px;\n",
              "    }\n",
              "\n",
              "    .colab-df-convert:hover {\n",
              "      background-color: #E2EBFA;\n",
              "      box-shadow: 0px 1px 2px rgba(60, 64, 67, 0.3), 0px 1px 3px 1px rgba(60, 64, 67, 0.15);\n",
              "      fill: #174EA6;\n",
              "    }\n",
              "\n",
              "    [theme=dark] .colab-df-convert {\n",
              "      background-color: #3B4455;\n",
              "      fill: #D2E3FC;\n",
              "    }\n",
              "\n",
              "    [theme=dark] .colab-df-convert:hover {\n",
              "      background-color: #434B5C;\n",
              "      box-shadow: 0px 1px 3px 1px rgba(0, 0, 0, 0.15);\n",
              "      filter: drop-shadow(0px 1px 2px rgba(0, 0, 0, 0.3));\n",
              "      fill: #FFFFFF;\n",
              "    }\n",
              "  </style>\n",
              "\n",
              "      <script>\n",
              "        const buttonEl =\n",
              "          document.querySelector('#df-5f74ca6c-c0a1-4967-ba94-fa70cc54cea3 button.colab-df-convert');\n",
              "        buttonEl.style.display =\n",
              "          google.colab.kernel.accessAllowed ? 'block' : 'none';\n",
              "\n",
              "        async function convertToInteractive(key) {\n",
              "          const element = document.querySelector('#df-5f74ca6c-c0a1-4967-ba94-fa70cc54cea3');\n",
              "          const dataTable =\n",
              "            await google.colab.kernel.invokeFunction('convertToInteractive',\n",
              "                                                     [key], {});\n",
              "          if (!dataTable) return;\n",
              "\n",
              "          const docLinkHtml = 'Like what you see? Visit the ' +\n",
              "            '<a target=\"_blank\" href=https://colab.research.google.com/notebooks/data_table.ipynb>data table notebook</a>'\n",
              "            + ' to learn more about interactive tables.';\n",
              "          element.innerHTML = '';\n",
              "          dataTable['output_type'] = 'display_data';\n",
              "          await google.colab.output.renderOutput(dataTable, element);\n",
              "          const docLink = document.createElement('div');\n",
              "          docLink.innerHTML = docLinkHtml;\n",
              "          element.appendChild(docLink);\n",
              "        }\n",
              "      </script>\n",
              "    </div>\n",
              "  </div>\n",
              "  "
            ]
          },
          "metadata": {},
          "execution_count": 5
        }
      ],
      "source": [
        "count_category_df = pd.DataFrame(data_train[\"category_id\"].value_counts()).reset_index().rename(columns={\"index\": \"category_id\", \"category_id\": \"counts\"})\n",
        "count_category_df.head()"
      ]
    },
    {
      "cell_type": "code",
      "execution_count": null,
      "metadata": {
        "colab": {
          "base_uri": "https://localhost:8080/"
        },
        "id": "7HOTJBZZ6h1v",
        "outputId": "64866cd3-2161-47a9-d1ff-88111be58854"
      },
      "outputs": [
        {
          "output_type": "execute_result",
          "data": {
            "text/plain": [
              "(87093, 8)"
            ]
          },
          "metadata": {},
          "execution_count": 6
        }
      ],
      "source": [
        "clean_data_df = data_train.loc[data_train[\"category_id\"].isin(count_category_df[count_category_df[\"counts\"] >= 25][\"category_id\"])]\n",
        "clean_data_df.shape"
      ]
    },
    {
      "cell_type": "markdown",
      "metadata": {
        "id": "4mI2-16x8SPT"
      },
      "source": [
        "В исходном датасете осталось 87093 товаров, что состовляет 95.5% от исходной выборки (91120 товаров)"
      ]
    },
    {
      "cell_type": "code",
      "execution_count": null,
      "metadata": {
        "colab": {
          "base_uri": "https://localhost:8080/",
          "height": 475
        },
        "id": "Qzpdah748qNJ",
        "outputId": "811afe19-7a30-4002-98c5-55c9bee498a0"
      },
      "outputs": [
        {
          "data": {
            "text/html": [
              "\n",
              "  <div id=\"df-e8a676a3-d7fc-4321-9b02-258f5e2267d2\">\n",
              "    <div class=\"colab-df-container\">\n",
              "      <div>\n",
              "<style scoped>\n",
              "    .dataframe tbody tr th:only-of-type {\n",
              "        vertical-align: middle;\n",
              "    }\n",
              "\n",
              "    .dataframe tbody tr th {\n",
              "        vertical-align: top;\n",
              "    }\n",
              "\n",
              "    .dataframe thead th {\n",
              "        text-align: right;\n",
              "    }\n",
              "</style>\n",
              "<table border=\"1\" class=\"dataframe\">\n",
              "  <thead>\n",
              "    <tr style=\"text-align: right;\">\n",
              "      <th></th>\n",
              "      <th>product_id</th>\n",
              "      <th>category_id</th>\n",
              "      <th>sale</th>\n",
              "      <th>shop_id</th>\n",
              "      <th>shop_title</th>\n",
              "      <th>rating</th>\n",
              "      <th>text_fields</th>\n",
              "      <th>category_name</th>\n",
              "    </tr>\n",
              "  </thead>\n",
              "  <tbody>\n",
              "    <tr>\n",
              "      <th>0</th>\n",
              "      <td>325286</td>\n",
              "      <td>12171</td>\n",
              "      <td>False</td>\n",
              "      <td>9031</td>\n",
              "      <td>Aksik</td>\n",
              "      <td>5.0</td>\n",
              "      <td>{\"title\": \"Зарядный кабель Borofone BX1 Lightn...</td>\n",
              "      <td>Все категории-&gt;Электроника-&gt;Смартфоны и телефо...</td>\n",
              "    </tr>\n",
              "    <tr>\n",
              "      <th>1</th>\n",
              "      <td>888134</td>\n",
              "      <td>14233</td>\n",
              "      <td>False</td>\n",
              "      <td>18305</td>\n",
              "      <td>Sela</td>\n",
              "      <td>5.0</td>\n",
              "      <td>{\"title\": \"Трусы Sela\", \"description\": \"Трусы-...</td>\n",
              "      <td>Все категории-&gt;Одежда-&gt;Женская одежда-&gt;Белье и...</td>\n",
              "    </tr>\n",
              "    <tr>\n",
              "      <th>3</th>\n",
              "      <td>1267173</td>\n",
              "      <td>13429</td>\n",
              "      <td>False</td>\n",
              "      <td>16357</td>\n",
              "      <td>ЮНЛАНДИЯ канцтовары</td>\n",
              "      <td>5.0</td>\n",
              "      <td>{\"title\": \"Гуашь \\\"ЮНЫЙ ВОЛШЕБНИК\\\", 12 цветов...</td>\n",
              "      <td>Все категории-&gt;Хобби и творчество-&gt;Рисование-&gt;...</td>\n",
              "    </tr>\n",
              "    <tr>\n",
              "      <th>5</th>\n",
              "      <td>1058275</td>\n",
              "      <td>12834</td>\n",
              "      <td>False</td>\n",
              "      <td>26389</td>\n",
              "      <td>Lim Market</td>\n",
              "      <td>4.6</td>\n",
              "      <td>{\"title\": \"Пижама женская, однотонная с шортам...</td>\n",
              "      <td>Все категории-&gt;Одежда-&gt;Женская одежда-&gt;Домашня...</td>\n",
              "    </tr>\n",
              "    <tr>\n",
              "      <th>7</th>\n",
              "      <td>1035042</td>\n",
              "      <td>12909</td>\n",
              "      <td>False</td>\n",
              "      <td>26110</td>\n",
              "      <td>HaL-Va</td>\n",
              "      <td>5.0</td>\n",
              "      <td>{\"title\": \"Детские теплые носки\", \"description...</td>\n",
              "      <td>Все категории-&gt;Одежда-&gt;Детская одежда-&gt;Одежда ...</td>\n",
              "    </tr>\n",
              "  </tbody>\n",
              "</table>\n",
              "</div>\n",
              "      <button class=\"colab-df-convert\" onclick=\"convertToInteractive('df-e8a676a3-d7fc-4321-9b02-258f5e2267d2')\"\n",
              "              title=\"Convert this dataframe to an interactive table.\"\n",
              "              style=\"display:none;\">\n",
              "        \n",
              "  <svg xmlns=\"http://www.w3.org/2000/svg\" height=\"24px\"viewBox=\"0 0 24 24\"\n",
              "       width=\"24px\">\n",
              "    <path d=\"M0 0h24v24H0V0z\" fill=\"none\"/>\n",
              "    <path d=\"M18.56 5.44l.94 2.06.94-2.06 2.06-.94-2.06-.94-.94-2.06-.94 2.06-2.06.94zm-11 1L8.5 8.5l.94-2.06 2.06-.94-2.06-.94L8.5 2.5l-.94 2.06-2.06.94zm10 10l.94 2.06.94-2.06 2.06-.94-2.06-.94-.94-2.06-.94 2.06-2.06.94z\"/><path d=\"M17.41 7.96l-1.37-1.37c-.4-.4-.92-.59-1.43-.59-.52 0-1.04.2-1.43.59L10.3 9.45l-7.72 7.72c-.78.78-.78 2.05 0 2.83L4 21.41c.39.39.9.59 1.41.59.51 0 1.02-.2 1.41-.59l7.78-7.78 2.81-2.81c.8-.78.8-2.07 0-2.86zM5.41 20L4 18.59l7.72-7.72 1.47 1.35L5.41 20z\"/>\n",
              "  </svg>\n",
              "      </button>\n",
              "      \n",
              "  <style>\n",
              "    .colab-df-container {\n",
              "      display:flex;\n",
              "      flex-wrap:wrap;\n",
              "      gap: 12px;\n",
              "    }\n",
              "\n",
              "    .colab-df-convert {\n",
              "      background-color: #E8F0FE;\n",
              "      border: none;\n",
              "      border-radius: 50%;\n",
              "      cursor: pointer;\n",
              "      display: none;\n",
              "      fill: #1967D2;\n",
              "      height: 32px;\n",
              "      padding: 0 0 0 0;\n",
              "      width: 32px;\n",
              "    }\n",
              "\n",
              "    .colab-df-convert:hover {\n",
              "      background-color: #E2EBFA;\n",
              "      box-shadow: 0px 1px 2px rgba(60, 64, 67, 0.3), 0px 1px 3px 1px rgba(60, 64, 67, 0.15);\n",
              "      fill: #174EA6;\n",
              "    }\n",
              "\n",
              "    [theme=dark] .colab-df-convert {\n",
              "      background-color: #3B4455;\n",
              "      fill: #D2E3FC;\n",
              "    }\n",
              "\n",
              "    [theme=dark] .colab-df-convert:hover {\n",
              "      background-color: #434B5C;\n",
              "      box-shadow: 0px 1px 3px 1px rgba(0, 0, 0, 0.15);\n",
              "      filter: drop-shadow(0px 1px 2px rgba(0, 0, 0, 0.3));\n",
              "      fill: #FFFFFF;\n",
              "    }\n",
              "  </style>\n",
              "\n",
              "      <script>\n",
              "        const buttonEl =\n",
              "          document.querySelector('#df-e8a676a3-d7fc-4321-9b02-258f5e2267d2 button.colab-df-convert');\n",
              "        buttonEl.style.display =\n",
              "          google.colab.kernel.accessAllowed ? 'block' : 'none';\n",
              "\n",
              "        async function convertToInteractive(key) {\n",
              "          const element = document.querySelector('#df-e8a676a3-d7fc-4321-9b02-258f5e2267d2');\n",
              "          const dataTable =\n",
              "            await google.colab.kernel.invokeFunction('convertToInteractive',\n",
              "                                                     [key], {});\n",
              "          if (!dataTable) return;\n",
              "\n",
              "          const docLinkHtml = 'Like what you see? Visit the ' +\n",
              "            '<a target=\"_blank\" href=https://colab.research.google.com/notebooks/data_table.ipynb>data table notebook</a>'\n",
              "            + ' to learn more about interactive tables.';\n",
              "          element.innerHTML = '';\n",
              "          dataTable['output_type'] = 'display_data';\n",
              "          await google.colab.output.renderOutput(dataTable, element);\n",
              "          const docLink = document.createElement('div');\n",
              "          docLink.innerHTML = docLinkHtml;\n",
              "          element.appendChild(docLink);\n",
              "        }\n",
              "      </script>\n",
              "    </div>\n",
              "  </div>\n",
              "  "
            ],
            "text/plain": [
              "   product_id  category_id   sale  shop_id           shop_title  rating  \\\n",
              "0      325286        12171  False     9031                Aksik     5.0   \n",
              "1      888134        14233  False    18305                 Sela     5.0   \n",
              "3     1267173        13429  False    16357  ЮНЛАНДИЯ канцтовары     5.0   \n",
              "5     1058275        12834  False    26389           Lim Market     4.6   \n",
              "7     1035042        12909  False    26110               HaL-Va     5.0   \n",
              "\n",
              "                                         text_fields  \\\n",
              "0  {\"title\": \"Зарядный кабель Borofone BX1 Lightn...   \n",
              "1  {\"title\": \"Трусы Sela\", \"description\": \"Трусы-...   \n",
              "3  {\"title\": \"Гуашь \\\"ЮНЫЙ ВОЛШЕБНИК\\\", 12 цветов...   \n",
              "5  {\"title\": \"Пижама женская, однотонная с шортам...   \n",
              "7  {\"title\": \"Детские теплые носки\", \"description...   \n",
              "\n",
              "                                       category_name  \n",
              "0  Все категории->Электроника->Смартфоны и телефо...  \n",
              "1  Все категории->Одежда->Женская одежда->Белье и...  \n",
              "3  Все категории->Хобби и творчество->Рисование->...  \n",
              "5  Все категории->Одежда->Женская одежда->Домашня...  \n",
              "7  Все категории->Одежда->Детская одежда->Одежда ...  "
            ]
          },
          "execution_count": 55,
          "metadata": {},
          "output_type": "execute_result"
        }
      ],
      "source": [
        "clean_data_df.head()"
      ]
    },
    {
      "cell_type": "markdown",
      "metadata": {
        "id": "ynMQYNydBgR5"
      },
      "source": [
        "В таблице осталось несколько ненужных колонок: product_id, sale, shop_id, rating, category_name (category_name и category_id по сути идентичны, поэтому оставим только category_id) нам не нужны, поскольку не влияют на предсказываемый параметр category_id, поэтому удалим их их датасета"
      ]
    },
    {
      "cell_type": "code",
      "execution_count": null,
      "metadata": {
        "colab": {
          "base_uri": "https://localhost:8080/",
          "height": 206
        },
        "id": "tYioD0T5HSiu",
        "outputId": "af474c10-9444-4c56-d159-83ccad44829c"
      },
      "outputs": [
        {
          "output_type": "execute_result",
          "data": {
            "text/plain": [
              "   category_id           shop_title  \\\n",
              "0        12171                Aksik   \n",
              "1        14233                 Sela   \n",
              "3        13429  ЮНЛАНДИЯ канцтовары   \n",
              "5        12834           Lim Market   \n",
              "7        12909               HaL-Va   \n",
              "\n",
              "                                         text_fields  \n",
              "0  {\"title\": \"Зарядный кабель Borofone BX1 Lightn...  \n",
              "1  {\"title\": \"Трусы Sela\", \"description\": \"Трусы-...  \n",
              "3  {\"title\": \"Гуашь \\\"ЮНЫЙ ВОЛШЕБНИК\\\", 12 цветов...  \n",
              "5  {\"title\": \"Пижама женская, однотонная с шортам...  \n",
              "7  {\"title\": \"Детские теплые носки\", \"description...  "
            ],
            "text/html": [
              "\n",
              "  <div id=\"df-6d0fd993-edae-4dea-b079-8ec0fdb47b24\">\n",
              "    <div class=\"colab-df-container\">\n",
              "      <div>\n",
              "<style scoped>\n",
              "    .dataframe tbody tr th:only-of-type {\n",
              "        vertical-align: middle;\n",
              "    }\n",
              "\n",
              "    .dataframe tbody tr th {\n",
              "        vertical-align: top;\n",
              "    }\n",
              "\n",
              "    .dataframe thead th {\n",
              "        text-align: right;\n",
              "    }\n",
              "</style>\n",
              "<table border=\"1\" class=\"dataframe\">\n",
              "  <thead>\n",
              "    <tr style=\"text-align: right;\">\n",
              "      <th></th>\n",
              "      <th>category_id</th>\n",
              "      <th>shop_title</th>\n",
              "      <th>text_fields</th>\n",
              "    </tr>\n",
              "  </thead>\n",
              "  <tbody>\n",
              "    <tr>\n",
              "      <th>0</th>\n",
              "      <td>12171</td>\n",
              "      <td>Aksik</td>\n",
              "      <td>{\"title\": \"Зарядный кабель Borofone BX1 Lightn...</td>\n",
              "    </tr>\n",
              "    <tr>\n",
              "      <th>1</th>\n",
              "      <td>14233</td>\n",
              "      <td>Sela</td>\n",
              "      <td>{\"title\": \"Трусы Sela\", \"description\": \"Трусы-...</td>\n",
              "    </tr>\n",
              "    <tr>\n",
              "      <th>3</th>\n",
              "      <td>13429</td>\n",
              "      <td>ЮНЛАНДИЯ канцтовары</td>\n",
              "      <td>{\"title\": \"Гуашь \\\"ЮНЫЙ ВОЛШЕБНИК\\\", 12 цветов...</td>\n",
              "    </tr>\n",
              "    <tr>\n",
              "      <th>5</th>\n",
              "      <td>12834</td>\n",
              "      <td>Lim Market</td>\n",
              "      <td>{\"title\": \"Пижама женская, однотонная с шортам...</td>\n",
              "    </tr>\n",
              "    <tr>\n",
              "      <th>7</th>\n",
              "      <td>12909</td>\n",
              "      <td>HaL-Va</td>\n",
              "      <td>{\"title\": \"Детские теплые носки\", \"description...</td>\n",
              "    </tr>\n",
              "  </tbody>\n",
              "</table>\n",
              "</div>\n",
              "      <button class=\"colab-df-convert\" onclick=\"convertToInteractive('df-6d0fd993-edae-4dea-b079-8ec0fdb47b24')\"\n",
              "              title=\"Convert this dataframe to an interactive table.\"\n",
              "              style=\"display:none;\">\n",
              "        \n",
              "  <svg xmlns=\"http://www.w3.org/2000/svg\" height=\"24px\"viewBox=\"0 0 24 24\"\n",
              "       width=\"24px\">\n",
              "    <path d=\"M0 0h24v24H0V0z\" fill=\"none\"/>\n",
              "    <path d=\"M18.56 5.44l.94 2.06.94-2.06 2.06-.94-2.06-.94-.94-2.06-.94 2.06-2.06.94zm-11 1L8.5 8.5l.94-2.06 2.06-.94-2.06-.94L8.5 2.5l-.94 2.06-2.06.94zm10 10l.94 2.06.94-2.06 2.06-.94-2.06-.94-.94-2.06-.94 2.06-2.06.94z\"/><path d=\"M17.41 7.96l-1.37-1.37c-.4-.4-.92-.59-1.43-.59-.52 0-1.04.2-1.43.59L10.3 9.45l-7.72 7.72c-.78.78-.78 2.05 0 2.83L4 21.41c.39.39.9.59 1.41.59.51 0 1.02-.2 1.41-.59l7.78-7.78 2.81-2.81c.8-.78.8-2.07 0-2.86zM5.41 20L4 18.59l7.72-7.72 1.47 1.35L5.41 20z\"/>\n",
              "  </svg>\n",
              "      </button>\n",
              "      \n",
              "  <style>\n",
              "    .colab-df-container {\n",
              "      display:flex;\n",
              "      flex-wrap:wrap;\n",
              "      gap: 12px;\n",
              "    }\n",
              "\n",
              "    .colab-df-convert {\n",
              "      background-color: #E8F0FE;\n",
              "      border: none;\n",
              "      border-radius: 50%;\n",
              "      cursor: pointer;\n",
              "      display: none;\n",
              "      fill: #1967D2;\n",
              "      height: 32px;\n",
              "      padding: 0 0 0 0;\n",
              "      width: 32px;\n",
              "    }\n",
              "\n",
              "    .colab-df-convert:hover {\n",
              "      background-color: #E2EBFA;\n",
              "      box-shadow: 0px 1px 2px rgba(60, 64, 67, 0.3), 0px 1px 3px 1px rgba(60, 64, 67, 0.15);\n",
              "      fill: #174EA6;\n",
              "    }\n",
              "\n",
              "    [theme=dark] .colab-df-convert {\n",
              "      background-color: #3B4455;\n",
              "      fill: #D2E3FC;\n",
              "    }\n",
              "\n",
              "    [theme=dark] .colab-df-convert:hover {\n",
              "      background-color: #434B5C;\n",
              "      box-shadow: 0px 1px 3px 1px rgba(0, 0, 0, 0.15);\n",
              "      filter: drop-shadow(0px 1px 2px rgba(0, 0, 0, 0.3));\n",
              "      fill: #FFFFFF;\n",
              "    }\n",
              "  </style>\n",
              "\n",
              "      <script>\n",
              "        const buttonEl =\n",
              "          document.querySelector('#df-6d0fd993-edae-4dea-b079-8ec0fdb47b24 button.colab-df-convert');\n",
              "        buttonEl.style.display =\n",
              "          google.colab.kernel.accessAllowed ? 'block' : 'none';\n",
              "\n",
              "        async function convertToInteractive(key) {\n",
              "          const element = document.querySelector('#df-6d0fd993-edae-4dea-b079-8ec0fdb47b24');\n",
              "          const dataTable =\n",
              "            await google.colab.kernel.invokeFunction('convertToInteractive',\n",
              "                                                     [key], {});\n",
              "          if (!dataTable) return;\n",
              "\n",
              "          const docLinkHtml = 'Like what you see? Visit the ' +\n",
              "            '<a target=\"_blank\" href=https://colab.research.google.com/notebooks/data_table.ipynb>data table notebook</a>'\n",
              "            + ' to learn more about interactive tables.';\n",
              "          element.innerHTML = '';\n",
              "          dataTable['output_type'] = 'display_data';\n",
              "          await google.colab.output.renderOutput(dataTable, element);\n",
              "          const docLink = document.createElement('div');\n",
              "          docLink.innerHTML = docLinkHtml;\n",
              "          element.appendChild(docLink);\n",
              "        }\n",
              "      </script>\n",
              "    </div>\n",
              "  </div>\n",
              "  "
            ]
          },
          "metadata": {},
          "execution_count": 7
        }
      ],
      "source": [
        "pd.options.mode.chained_assignment = None  # default='warn'\n",
        "clean_data_df.drop(['product_id', 'sale','shop_id', 'rating', 'category_name'], axis=1, inplace=True)\n",
        "clean_data_df.head()"
      ]
    },
    {
      "cell_type": "markdown",
      "metadata": {
        "id": "6SPhzJ2aKgXU"
      },
      "source": [
        "Обработаем данные для того, чтобы к ним можно было применить различные модели машинного обучения. Основное данные о товарах содержатся в графе text_fields. Данные в формате json. Распарсим их в словарь. В этом словаре, ключи - \"title\",\"description\", \"attributes\", \"filters\", \"defined_characteristics\", \"custom_characteristics\""
      ]
    },
    {
      "cell_type": "code",
      "execution_count": null,
      "metadata": {
        "colab": {
          "base_uri": "https://localhost:8080/"
        },
        "id": "Xbi5O4Z4LWWz",
        "outputId": "99fc8018-8ab6-4da5-c4b1-b47e1290e75c"
      },
      "outputs": [
        {
          "output_type": "execute_result",
          "data": {
            "text/plain": [
              "0    {'title': 'Зарядный кабель Borofone BX1 Lightn...\n",
              "1    {'title': 'Трусы Sela', 'description': 'Трусы-...\n",
              "3    {'title': 'Гуашь \"ЮНЫЙ ВОЛШЕБНИК\", 12 цветов п...\n",
              "5    {'title': 'Пижама женская, однотонная с шортам...\n",
              "7    {'title': 'Детские теплые носки', 'description...\n",
              "Name: text_fields_dict, dtype: object"
            ]
          },
          "metadata": {},
          "execution_count": 8
        }
      ],
      "source": [
        "clean_data_df[\"text_fields_dict\"] = clean_data_df[\"text_fields\"].apply(lambda x: json.loads(x))\n",
        "clean_data_df[\"text_fields_dict\"].head()"
      ]
    },
    {
      "cell_type": "markdown",
      "metadata": {
        "id": "kGML0X01NgGQ"
      },
      "source": [
        "Напишем вспомогательную функцию bag_words - мешок слов, котороя переведет словарь в строку без какого-либо учета грамматики и порядка слов, но с сохранением информации об их количестве. "
      ]
    },
    {
      "cell_type": "code",
      "execution_count": null,
      "metadata": {
        "colab": {
          "base_uri": "https://localhost:8080/"
        },
        "id": "aHW1_1hsOZl3",
        "outputId": "634e1d25-97dc-47ff-bd93-4a207f223712"
      },
      "outputs": [
        {
          "output_type": "execute_result",
          "data": {
            "text/plain": [
              "0    Зарядный кабель Borofone BX1 Lightning для айф...\n",
              "1    Трусы Sela Трусы-слипы из эластичного бесшовно...\n",
              "3    Гуашь \"ЮНЫЙ ВОЛШЕБНИК\", 12 цветов по 35 мл, БО...\n",
              "5    Пижама женская, однотонная с шортами <p>Лёгкая...\n",
              "7    Детские теплые носки <p>Детские теплые носочки...\n",
              "Name: bag_words, dtype: object"
            ]
          },
          "metadata": {},
          "execution_count": 9
        }
      ],
      "source": [
        "def bag_words(dict_from_df): #функция превращает исходный словарь в строку\n",
        "\n",
        "    string = dict_from_df[\"title\"]+\" \"+dict_from_df[\"description\"]+\" \"+\" \".join(dict_from_df[\"attributes\"])\n",
        "    if dict_from_df.get('filters'):\n",
        "        string += \" \"+\" \".join(dict_from_df['filters'].keys())\n",
        "    if dict_from_df.get('defined_characteristics'):\n",
        "        string += \" \" + \" \".join(dict_from_df['defined_characteristics'].keys())\n",
        "        string += \" \" + \" \".join([\" \".join(set(token)) for token in dict_from_df['defined_characteristics'].values()])\n",
        "    if dict_from_df.get('custom_characteristics'):\n",
        "        string += \" \" + \" \".join(dict_from_df['custom_characteristics'].keys())\n",
        "        string += \" \" + \" \".join([\" \".join(set(token)) for token in dict_from_df['custom_characteristics'].values()])\n",
        "\n",
        "    return \" \".join(string.split())\n",
        "clean_data_df[\"bag_words\"] = clean_data_df[\"text_fields_dict\"].apply(lambda x: bag_words(x))\n",
        "clean_data_df[\"bag_words\"].head()"
      ]
    },
    {
      "cell_type": "markdown",
      "metadata": {
        "id": "HNwfu1ZAP9VE"
      },
      "source": [
        "Поскольку магазины могут быть специализированными, и, как следствие, могут влиять на предсказываемую категорию товаров, то их наследует добавить к общим данным "
      ]
    },
    {
      "cell_type": "code",
      "execution_count": null,
      "metadata": {
        "colab": {
          "base_uri": "https://localhost:8080/"
        },
        "id": "347bKpDiQWZg",
        "outputId": "1a32ad40-591b-4049-88d1-7630fa6832f6"
      },
      "outputs": [
        {
          "output_type": "execute_result",
          "data": {
            "text/plain": [
              "0    Зарядный кабель Borofone BX1 Lightning для айф...\n",
              "1    Трусы Sela Трусы-слипы из эластичного бесшовно...\n",
              "3    Гуашь \"ЮНЫЙ ВОЛШЕБНИК\", 12 цветов по 35 мл, БО...\n",
              "5    Пижама женская, однотонная с шортами <p>Лёгкая...\n",
              "7    Детские теплые носки <p>Детские теплые носочки...\n",
              "Name: full_data, dtype: object"
            ]
          },
          "metadata": {},
          "execution_count": 10
        }
      ],
      "source": [
        "clean_data_df[\"full_data\"] = clean_data_df[\"bag_words\"] + \" \" + clean_data_df['shop_title']\n",
        "clean_data_df[\"full_data\"].head()"
      ]
    },
    {
      "cell_type": "markdown",
      "metadata": {
        "id": "yBkyhO2hRQCr"
      },
      "source": [
        "Напишем вспомогательные фунции - clean_data и preprocess_data, с помощью которых обработаем данные. Функция clean_data с помощью регулярных выражений уберет из текста знаки пунктуации и теги (выражения написанные между <>). Функция preprocess_data уберет стопслова, местоимения, предлоги и цыфры. Лемматизацию (преобразование слова к нормальной форме) было решено не делать, поскольку на всех тестируемых моделях она приводила к ухудшению точности (f1_score). Возможно, это связанно с тем, что склонение слов говорит многое о \n",
        "товаре. К примеру, содержание текста «для телефона» уже может говорить о том, что данный товар не телефон, а аксессуар для телефона, в то время как содержание слова «телефон» говорит, что это товар относится к категории телефоны. Если же \n",
        "нормализовать текст «для телефона», то он преобразуется в текст «для телефон», и модели будет тяжелее классифицировать товар верно"
      ]
    },
    {
      "cell_type": "code",
      "execution_count": null,
      "metadata": {
        "colab": {
          "base_uri": "https://localhost:8080/"
        },
        "id": "ndIDazUNUwPX",
        "outputId": "7dddd6d4-afac-4405-db06-6e0972be2d87"
      },
      "outputs": [
        {
          "output_type": "stream",
          "name": "stderr",
          "text": [
            "[nltk_data] Downloading package stopwords to /root/nltk_data...\n",
            "[nltk_data]   Unzipping corpora/stopwords.zip.\n"
          ]
        },
        {
          "output_type": "execute_result",
          "data": {
            "text/plain": [
              "0    Зарядный кабель Borofone Lightning айфон span ...\n",
              "1    Трусы Sela эластичного бесшовного трикотажа Од...\n",
              "3    Гуашь ЮНЫЙ ВОЛШЕБНИК цветов БОЛЬШИЕ БАНОЧКИ вы...\n",
              "5    Пижама женская однотонная шортами Лёгкая ткань...\n",
              "7    Детские теплые носки Детские теплые носочкиПро...\n",
              "Name: preprocessed, dtype: object"
            ]
          },
          "metadata": {},
          "execution_count": 11
        }
      ],
      "source": [
        "nltk.download('stopwords')\n",
        "russian_stopwords = stopwords.words(\"russian\")\n",
        "def clean_data(line):\n",
        "\n",
        "    tokens = str(line)\n",
        "    tokens = [re.sub('<[^>]+>', '', token).strip(string.punctuation) for token in tokens.split()]\n",
        "    line = \" \".join(tokens)\n",
        "    return line\n",
        "\n",
        "def preprocess_data(text):\n",
        "\n",
        "    tokens = str(text)\n",
        "    tokens = [token for token in tokens.split() if token not in russian_stopwords\\\n",
        "\n",
        "              and token.isalpha()\\\n",
        "              and len(token)>=3 ]\n",
        "    text = \" \".join(tokens)\n",
        "    return text\n",
        "\n",
        "clean_data_df['preprocessed'] = clean_data_df[\"full_data\"].apply(lambda x: clean_data(x)).apply(lambda x: preprocess_data(x))\n",
        "clean_data_df['preprocessed'].head()"
      ]
    },
    {
      "cell_type": "markdown",
      "metadata": {
        "id": "oquGu_2XWmxr"
      },
      "source": [
        "Поделим наш датасет на X — обработанные наименования товаров и на y — их категории. Разделим на обучающую и тестовую выборку, отдав под тесты 20% от общего числа данных."
      ]
    },
    {
      "cell_type": "code",
      "execution_count": null,
      "metadata": {
        "id": "SQAh7c94WFEy"
      },
      "outputs": [],
      "source": [
        "X = clean_data_df.preprocessed\n",
        "y = clean_data_df.category_id\n",
        "X_train, X_test, y_train, y_test = train_test_split(X, y, stratify=y, test_size=0.2, random_state=42)"
      ]
    },
    {
      "cell_type": "markdown",
      "metadata": {
        "id": "WFPTNbGvW3df"
      },
      "source": [
        "Для начала  в качесте классификатора выберем наивный баесовский классификатор. Создадим пайплайн со следующими командами:\n",
        "\n",
        "CountVectorizer() — возвращает матрицу с количеством вхождений каждого токена\n",
        "TfidfTransformer() — преобразует эту матрицу в нормализованное представление tf-idf\n",
        "MultinomialNB() — наивный байесовский классификатор для предсказания категории товара. И поскольку классификация мультиклассовая воспользуемся OneVsRestClassifier. Обучим модель и посмотрим f1_score."
      ]
    },
    {
      "cell_type": "code",
      "execution_count": null,
      "metadata": {
        "colab": {
          "base_uri": "https://localhost:8080/"
        },
        "id": "OHB7TQd4X25Q",
        "outputId": "aa32e07f-1388-4de4-cdad-5655e259ced1"
      },
      "outputs": [
        {
          "output_type": "stream",
          "name": "stdout",
          "text": [
            "Score: 44.16579307651482\n"
          ]
        }
      ],
      "source": [
        "text_clf = Pipeline([('vect', CountVectorizer()),\n",
        "                      ('tfidf', TfidfTransformer()),\n",
        "                      ('clf', OneVsRestClassifier(MultinomialNB(), n_jobs=-1))])\n",
        "\n",
        "text_clf = text_clf.fit(X_train, y_train)\n",
        "y_pred = text_clf.predict(X_test)\n",
        "print('Score:', 100*f1_score(y_test, y_pred,  average='weighted'))"
      ]
    },
    {
      "cell_type": "markdown",
      "metadata": {
        "id": "7haWWL7hZRat"
      },
      "source": [
        "Теперь попробуем SGDClassifier - один из лучших классификаторов для обработки текста "
      ]
    },
    {
      "cell_type": "code",
      "execution_count": null,
      "metadata": {
        "colab": {
          "base_uri": "https://localhost:8080/"
        },
        "id": "vdGJZrEKZdfc",
        "outputId": "8d08f801-d592-4d9d-9671-8dd7f76d2145"
      },
      "outputs": [
        {
          "output_type": "stream",
          "name": "stdout",
          "text": [
            "Score: 80.57725171319287\n"
          ]
        }
      ],
      "source": [
        "text_clf = Pipeline([('vect', CountVectorizer()),\n",
        "                      ('tfidf', TfidfTransformer()),\n",
        "                      ('clf', OneVsRestClassifier(SGDClassifier(), n_jobs=-1))])\n",
        "\n",
        "text_clf = text_clf.fit(X_train, y_train)\n",
        "y_pred = text_clf.predict(X_test)\n",
        "print('Score:', 100*f1_score(y_test, y_pred,  average='weighted'))"
      ]
    },
    {
      "cell_type": "markdown",
      "metadata": {
        "id": "xwjCkUVxZ-8J"
      },
      "source": [
        "В случае использования SGDClassifier целевой показатель (f1_score) оказался существенно выше, что говорит о том, что предсказывемый параметр линейнозависит от признаком. Попробуем использовать другие линейные модели, например, LinearSVC."
      ]
    },
    {
      "cell_type": "code",
      "execution_count": null,
      "metadata": {
        "colab": {
          "base_uri": "https://localhost:8080/"
        },
        "id": "-MkIsGgXbes9",
        "outputId": "efa32b89-7951-4235-ff15-431552d6d449"
      },
      "outputs": [
        {
          "output_type": "stream",
          "name": "stdout",
          "text": [
            "Score: 86.91048881560873\n"
          ]
        }
      ],
      "source": [
        "text_clf = Pipeline([('vect', CountVectorizer()),\n",
        "                      ('tfidf', TfidfTransformer()),\n",
        "                      ('clf', OneVsRestClassifier(LinearSVC(random_state=42, tol=1e-3), n_jobs=-1))])\n",
        "\n",
        "text_clf = text_clf.fit(X_train, y_train)\n",
        "y_pred = text_clf.predict(X_test)\n",
        "print('Score:', 100*f1_score(y_test, y_pred,  average='weighted'))"
      ]
    },
    {
      "cell_type": "markdown",
      "metadata": {
        "id": "8kiqaVRudKOh"
      },
      "source": [
        "Попробуем немного настроить параметры. Параметры будем настраивал вручную поскольку GridsearchCV требует много ресурсов. Не хватает ОЗУ на гугл коллабе. "
      ]
    },
    {
      "cell_type": "code",
      "source": [
        "text_clf = Pipeline([('vect', CountVectorizer(ngram_range=(1, 2))),\n",
        "                      ('tfidf', TfidfTransformer(use_idf=False, smooth_idf=False)),\n",
        "                      ('clf', OneVsRestClassifier(LinearSVC(), n_jobs=1))])\n",
        "text_clf = text_clf.fit(X_train, y_train)\n",
        "y_pred = text_clf.predict(X_test)\n",
        "print('Score:', 100*f1_score(y_test, y_pred,  average='weighted'))"
      ],
      "metadata": {
        "colab": {
          "base_uri": "https://localhost:8080/"
        },
        "id": "l0CKjiRVUpeL",
        "outputId": "2788f430-7352-4899-954a-fb699a0dc1d1"
      },
      "execution_count": null,
      "outputs": [
        {
          "output_type": "stream",
          "name": "stdout",
          "text": [
            "Score: 86.96259320501144\n"
          ]
        }
      ]
    },
    {
      "cell_type": "markdown",
      "source": [
        "Настройка параметров привела к незначительному увеличению f1_score. Считаем тестовые данные."
      ],
      "metadata": {
        "id": "FxgOlfw3dniL"
      }
    },
    {
      "cell_type": "code",
      "source": [
        "data_test = pd.read_parquet(\"/content/test.parquet\", engine='pyarrow')\n",
        "data_test.head()\n"
      ],
      "metadata": {
        "colab": {
          "base_uri": "https://localhost:8080/",
          "height": 206
        },
        "id": "q-dkC19_yr1D",
        "outputId": "554bd5f7-7072-4106-e5ab-b33d45d891c7"
      },
      "execution_count": null,
      "outputs": [
        {
          "output_type": "execute_result",
          "data": {
            "text/plain": [
              "   product_id   sale  shop_id       shop_title    rating  \\\n",
              "1     1997646  False    22758  Sky_Electronics  5.000000   \n",
              "2      927375  False    17729     Di-Di Market  4.405941   \n",
              "3     1921513  False    54327      VisionStore  4.000000   \n",
              "4     1668662  False    15000         FORNAILS  5.000000   \n",
              "5     1467778  False    39600        МОЯ КУХНЯ  5.000000   \n",
              "\n",
              "                                         text_fields  \n",
              "1  {\"title\": \"Светодиодная лента Smart led Strip ...  \n",
              "2  {\"title\": \"Стекло ПЛЕНКА керамик матовое Honor...  \n",
              "3  {\"title\": \"Проводные наушники с микрофоном jac...  \n",
              "4  {\"title\": \"Декоративная табличка \\\"Правила кух...  \n",
              "5  {\"title\": \"Подставка под ложку керамическая, п...  "
            ],
            "text/html": [
              "\n",
              "  <div id=\"df-29135101-dc95-4285-8c5c-14bf553e2bd1\">\n",
              "    <div class=\"colab-df-container\">\n",
              "      <div>\n",
              "<style scoped>\n",
              "    .dataframe tbody tr th:only-of-type {\n",
              "        vertical-align: middle;\n",
              "    }\n",
              "\n",
              "    .dataframe tbody tr th {\n",
              "        vertical-align: top;\n",
              "    }\n",
              "\n",
              "    .dataframe thead th {\n",
              "        text-align: right;\n",
              "    }\n",
              "</style>\n",
              "<table border=\"1\" class=\"dataframe\">\n",
              "  <thead>\n",
              "    <tr style=\"text-align: right;\">\n",
              "      <th></th>\n",
              "      <th>product_id</th>\n",
              "      <th>sale</th>\n",
              "      <th>shop_id</th>\n",
              "      <th>shop_title</th>\n",
              "      <th>rating</th>\n",
              "      <th>text_fields</th>\n",
              "    </tr>\n",
              "  </thead>\n",
              "  <tbody>\n",
              "    <tr>\n",
              "      <th>1</th>\n",
              "      <td>1997646</td>\n",
              "      <td>False</td>\n",
              "      <td>22758</td>\n",
              "      <td>Sky_Electronics</td>\n",
              "      <td>5.000000</td>\n",
              "      <td>{\"title\": \"Светодиодная лента Smart led Strip ...</td>\n",
              "    </tr>\n",
              "    <tr>\n",
              "      <th>2</th>\n",
              "      <td>927375</td>\n",
              "      <td>False</td>\n",
              "      <td>17729</td>\n",
              "      <td>Di-Di Market</td>\n",
              "      <td>4.405941</td>\n",
              "      <td>{\"title\": \"Стекло ПЛЕНКА керамик матовое Honor...</td>\n",
              "    </tr>\n",
              "    <tr>\n",
              "      <th>3</th>\n",
              "      <td>1921513</td>\n",
              "      <td>False</td>\n",
              "      <td>54327</td>\n",
              "      <td>VisionStore</td>\n",
              "      <td>4.000000</td>\n",
              "      <td>{\"title\": \"Проводные наушники с микрофоном jac...</td>\n",
              "    </tr>\n",
              "    <tr>\n",
              "      <th>4</th>\n",
              "      <td>1668662</td>\n",
              "      <td>False</td>\n",
              "      <td>15000</td>\n",
              "      <td>FORNAILS</td>\n",
              "      <td>5.000000</td>\n",
              "      <td>{\"title\": \"Декоративная табличка \\\"Правила кух...</td>\n",
              "    </tr>\n",
              "    <tr>\n",
              "      <th>5</th>\n",
              "      <td>1467778</td>\n",
              "      <td>False</td>\n",
              "      <td>39600</td>\n",
              "      <td>МОЯ КУХНЯ</td>\n",
              "      <td>5.000000</td>\n",
              "      <td>{\"title\": \"Подставка под ложку керамическая, п...</td>\n",
              "    </tr>\n",
              "  </tbody>\n",
              "</table>\n",
              "</div>\n",
              "      <button class=\"colab-df-convert\" onclick=\"convertToInteractive('df-29135101-dc95-4285-8c5c-14bf553e2bd1')\"\n",
              "              title=\"Convert this dataframe to an interactive table.\"\n",
              "              style=\"display:none;\">\n",
              "        \n",
              "  <svg xmlns=\"http://www.w3.org/2000/svg\" height=\"24px\"viewBox=\"0 0 24 24\"\n",
              "       width=\"24px\">\n",
              "    <path d=\"M0 0h24v24H0V0z\" fill=\"none\"/>\n",
              "    <path d=\"M18.56 5.44l.94 2.06.94-2.06 2.06-.94-2.06-.94-.94-2.06-.94 2.06-2.06.94zm-11 1L8.5 8.5l.94-2.06 2.06-.94-2.06-.94L8.5 2.5l-.94 2.06-2.06.94zm10 10l.94 2.06.94-2.06 2.06-.94-2.06-.94-.94-2.06-.94 2.06-2.06.94z\"/><path d=\"M17.41 7.96l-1.37-1.37c-.4-.4-.92-.59-1.43-.59-.52 0-1.04.2-1.43.59L10.3 9.45l-7.72 7.72c-.78.78-.78 2.05 0 2.83L4 21.41c.39.39.9.59 1.41.59.51 0 1.02-.2 1.41-.59l7.78-7.78 2.81-2.81c.8-.78.8-2.07 0-2.86zM5.41 20L4 18.59l7.72-7.72 1.47 1.35L5.41 20z\"/>\n",
              "  </svg>\n",
              "      </button>\n",
              "      \n",
              "  <style>\n",
              "    .colab-df-container {\n",
              "      display:flex;\n",
              "      flex-wrap:wrap;\n",
              "      gap: 12px;\n",
              "    }\n",
              "\n",
              "    .colab-df-convert {\n",
              "      background-color: #E8F0FE;\n",
              "      border: none;\n",
              "      border-radius: 50%;\n",
              "      cursor: pointer;\n",
              "      display: none;\n",
              "      fill: #1967D2;\n",
              "      height: 32px;\n",
              "      padding: 0 0 0 0;\n",
              "      width: 32px;\n",
              "    }\n",
              "\n",
              "    .colab-df-convert:hover {\n",
              "      background-color: #E2EBFA;\n",
              "      box-shadow: 0px 1px 2px rgba(60, 64, 67, 0.3), 0px 1px 3px 1px rgba(60, 64, 67, 0.15);\n",
              "      fill: #174EA6;\n",
              "    }\n",
              "\n",
              "    [theme=dark] .colab-df-convert {\n",
              "      background-color: #3B4455;\n",
              "      fill: #D2E3FC;\n",
              "    }\n",
              "\n",
              "    [theme=dark] .colab-df-convert:hover {\n",
              "      background-color: #434B5C;\n",
              "      box-shadow: 0px 1px 3px 1px rgba(0, 0, 0, 0.15);\n",
              "      filter: drop-shadow(0px 1px 2px rgba(0, 0, 0, 0.3));\n",
              "      fill: #FFFFFF;\n",
              "    }\n",
              "  </style>\n",
              "\n",
              "      <script>\n",
              "        const buttonEl =\n",
              "          document.querySelector('#df-29135101-dc95-4285-8c5c-14bf553e2bd1 button.colab-df-convert');\n",
              "        buttonEl.style.display =\n",
              "          google.colab.kernel.accessAllowed ? 'block' : 'none';\n",
              "\n",
              "        async function convertToInteractive(key) {\n",
              "          const element = document.querySelector('#df-29135101-dc95-4285-8c5c-14bf553e2bd1');\n",
              "          const dataTable =\n",
              "            await google.colab.kernel.invokeFunction('convertToInteractive',\n",
              "                                                     [key], {});\n",
              "          if (!dataTable) return;\n",
              "\n",
              "          const docLinkHtml = 'Like what you see? Visit the ' +\n",
              "            '<a target=\"_blank\" href=https://colab.research.google.com/notebooks/data_table.ipynb>data table notebook</a>'\n",
              "            + ' to learn more about interactive tables.';\n",
              "          element.innerHTML = '';\n",
              "          dataTable['output_type'] = 'display_data';\n",
              "          await google.colab.output.renderOutput(dataTable, element);\n",
              "          const docLink = document.createElement('div');\n",
              "          docLink.innerHTML = docLinkHtml;\n",
              "          element.appendChild(docLink);\n",
              "        }\n",
              "      </script>\n",
              "    </div>\n",
              "  </div>\n",
              "  "
            ]
          },
          "metadata": {},
          "execution_count": 45
        }
      ]
    },
    {
      "cell_type": "markdown",
      "source": [
        "подготовим данные для обучения"
      ],
      "metadata": {
        "id": "Jwaa-rInzPdu"
      }
    },
    {
      "cell_type": "code",
      "execution_count": null,
      "metadata": {
        "id": "yEKyMaoKdJx8"
      },
      "outputs": [],
      "source": [
        "data_test[\"text_fields_dict\"] = data_test[\"text_fields\"].apply(lambda x: json.loads(x))\n",
        "data_test[\"bag_words\"] = data_test[\"text_fields_dict\"].apply(lambda x: bag_words(x))\n",
        "data_test[\"full_data\"] = data_test[\"bag_words\"] + \" \" + data_test['shop_title']\n",
        "data_test['preprocessed'] = data_test[\"full_data\"].apply(lambda x: clean_data(x)).apply(lambda x: preprocess_data(x))\n",
        "data_test['preprocessed'].head()\n",
        "X_final = data_test.preprocessed\n"
      ]
    },
    {
      "cell_type": "markdown",
      "source": [
        "Предскажем значения категорий товаров"
      ],
      "metadata": {
        "id": "RZ77dGqL3iqW"
      }
    },
    {
      "cell_type": "code",
      "source": [
        "text_clf = Pipeline([('vect', CountVectorizer(ngram_range=(1, 2))),\n",
        "                      ('tfidf', TfidfTransformer(use_idf=False, smooth_idf=False)),\n",
        "                      ('clf', OneVsRestClassifier(LinearSVC(), n_jobs=1))])\n",
        "text_clf = text_clf.fit(X_train, y_train)\n",
        "predicted_category_id = text_clf.predict(X_final)\n",
        "predicted_category_id"
      ],
      "metadata": {
        "colab": {
          "base_uri": "https://localhost:8080/"
        },
        "id": "NBqPu0o53nZO",
        "outputId": "0e1ec0db-4718-43dc-d45d-d43cffd4a506"
      },
      "execution_count": null,
      "outputs": [
        {
          "output_type": "execute_result",
          "data": {
            "text/plain": [
              "array([13495, 14922,  2803, ..., 13651,  2740, 11757])"
            ]
          },
          "metadata": {},
          "execution_count": 53
        }
      ]
    },
    {
      "cell_type": "code",
      "source": [
        "data_test[\"predicted_category_id\"] = predicted_category_id\n",
        "response = data_test[[\"product_id\", \"predicted_category_id\"]]\n",
        "response.head()"
      ],
      "metadata": {
        "colab": {
          "base_uri": "https://localhost:8080/",
          "height": 206
        },
        "id": "QWLbVSSu3h4-",
        "outputId": "25694a9b-6aa3-4978-aa57-83f64f2ab66c"
      },
      "execution_count": null,
      "outputs": [
        {
          "output_type": "execute_result",
          "data": {
            "text/plain": [
              "   product_id  predicted_category_id\n",
              "1     1997646                  13495\n",
              "2      927375                  14922\n",
              "3     1921513                   2803\n",
              "4     1668662                  12044\n",
              "5     1467778                  12747"
            ],
            "text/html": [
              "\n",
              "  <div id=\"df-d8b6a385-44bf-4de0-82ce-449fcbab1857\">\n",
              "    <div class=\"colab-df-container\">\n",
              "      <div>\n",
              "<style scoped>\n",
              "    .dataframe tbody tr th:only-of-type {\n",
              "        vertical-align: middle;\n",
              "    }\n",
              "\n",
              "    .dataframe tbody tr th {\n",
              "        vertical-align: top;\n",
              "    }\n",
              "\n",
              "    .dataframe thead th {\n",
              "        text-align: right;\n",
              "    }\n",
              "</style>\n",
              "<table border=\"1\" class=\"dataframe\">\n",
              "  <thead>\n",
              "    <tr style=\"text-align: right;\">\n",
              "      <th></th>\n",
              "      <th>product_id</th>\n",
              "      <th>predicted_category_id</th>\n",
              "    </tr>\n",
              "  </thead>\n",
              "  <tbody>\n",
              "    <tr>\n",
              "      <th>1</th>\n",
              "      <td>1997646</td>\n",
              "      <td>13495</td>\n",
              "    </tr>\n",
              "    <tr>\n",
              "      <th>2</th>\n",
              "      <td>927375</td>\n",
              "      <td>14922</td>\n",
              "    </tr>\n",
              "    <tr>\n",
              "      <th>3</th>\n",
              "      <td>1921513</td>\n",
              "      <td>2803</td>\n",
              "    </tr>\n",
              "    <tr>\n",
              "      <th>4</th>\n",
              "      <td>1668662</td>\n",
              "      <td>12044</td>\n",
              "    </tr>\n",
              "    <tr>\n",
              "      <th>5</th>\n",
              "      <td>1467778</td>\n",
              "      <td>12747</td>\n",
              "    </tr>\n",
              "  </tbody>\n",
              "</table>\n",
              "</div>\n",
              "      <button class=\"colab-df-convert\" onclick=\"convertToInteractive('df-d8b6a385-44bf-4de0-82ce-449fcbab1857')\"\n",
              "              title=\"Convert this dataframe to an interactive table.\"\n",
              "              style=\"display:none;\">\n",
              "        \n",
              "  <svg xmlns=\"http://www.w3.org/2000/svg\" height=\"24px\"viewBox=\"0 0 24 24\"\n",
              "       width=\"24px\">\n",
              "    <path d=\"M0 0h24v24H0V0z\" fill=\"none\"/>\n",
              "    <path d=\"M18.56 5.44l.94 2.06.94-2.06 2.06-.94-2.06-.94-.94-2.06-.94 2.06-2.06.94zm-11 1L8.5 8.5l.94-2.06 2.06-.94-2.06-.94L8.5 2.5l-.94 2.06-2.06.94zm10 10l.94 2.06.94-2.06 2.06-.94-2.06-.94-.94-2.06-.94 2.06-2.06.94z\"/><path d=\"M17.41 7.96l-1.37-1.37c-.4-.4-.92-.59-1.43-.59-.52 0-1.04.2-1.43.59L10.3 9.45l-7.72 7.72c-.78.78-.78 2.05 0 2.83L4 21.41c.39.39.9.59 1.41.59.51 0 1.02-.2 1.41-.59l7.78-7.78 2.81-2.81c.8-.78.8-2.07 0-2.86zM5.41 20L4 18.59l7.72-7.72 1.47 1.35L5.41 20z\"/>\n",
              "  </svg>\n",
              "      </button>\n",
              "      \n",
              "  <style>\n",
              "    .colab-df-container {\n",
              "      display:flex;\n",
              "      flex-wrap:wrap;\n",
              "      gap: 12px;\n",
              "    }\n",
              "\n",
              "    .colab-df-convert {\n",
              "      background-color: #E8F0FE;\n",
              "      border: none;\n",
              "      border-radius: 50%;\n",
              "      cursor: pointer;\n",
              "      display: none;\n",
              "      fill: #1967D2;\n",
              "      height: 32px;\n",
              "      padding: 0 0 0 0;\n",
              "      width: 32px;\n",
              "    }\n",
              "\n",
              "    .colab-df-convert:hover {\n",
              "      background-color: #E2EBFA;\n",
              "      box-shadow: 0px 1px 2px rgba(60, 64, 67, 0.3), 0px 1px 3px 1px rgba(60, 64, 67, 0.15);\n",
              "      fill: #174EA6;\n",
              "    }\n",
              "\n",
              "    [theme=dark] .colab-df-convert {\n",
              "      background-color: #3B4455;\n",
              "      fill: #D2E3FC;\n",
              "    }\n",
              "\n",
              "    [theme=dark] .colab-df-convert:hover {\n",
              "      background-color: #434B5C;\n",
              "      box-shadow: 0px 1px 3px 1px rgba(0, 0, 0, 0.15);\n",
              "      filter: drop-shadow(0px 1px 2px rgba(0, 0, 0, 0.3));\n",
              "      fill: #FFFFFF;\n",
              "    }\n",
              "  </style>\n",
              "\n",
              "      <script>\n",
              "        const buttonEl =\n",
              "          document.querySelector('#df-d8b6a385-44bf-4de0-82ce-449fcbab1857 button.colab-df-convert');\n",
              "        buttonEl.style.display =\n",
              "          google.colab.kernel.accessAllowed ? 'block' : 'none';\n",
              "\n",
              "        async function convertToInteractive(key) {\n",
              "          const element = document.querySelector('#df-d8b6a385-44bf-4de0-82ce-449fcbab1857');\n",
              "          const dataTable =\n",
              "            await google.colab.kernel.invokeFunction('convertToInteractive',\n",
              "                                                     [key], {});\n",
              "          if (!dataTable) return;\n",
              "\n",
              "          const docLinkHtml = 'Like what you see? Visit the ' +\n",
              "            '<a target=\"_blank\" href=https://colab.research.google.com/notebooks/data_table.ipynb>data table notebook</a>'\n",
              "            + ' to learn more about interactive tables.';\n",
              "          element.innerHTML = '';\n",
              "          dataTable['output_type'] = 'display_data';\n",
              "          await google.colab.output.renderOutput(dataTable, element);\n",
              "          const docLink = document.createElement('div');\n",
              "          docLink.innerHTML = docLinkHtml;\n",
              "          element.appendChild(docLink);\n",
              "        }\n",
              "      </script>\n",
              "    </div>\n",
              "  </div>\n",
              "  "
            ]
          },
          "metadata": {},
          "execution_count": 54
        }
      ]
    },
    {
      "cell_type": "markdown",
      "source": [
        "Запищем полученные данные в файл."
      ],
      "metadata": {
        "id": "AMNHI3617rux"
      }
    },
    {
      "cell_type": "code",
      "source": [
        "response.to_parquet(\"/content/result.parquet\", engine='pyarrow')"
      ],
      "metadata": {
        "id": "VTIFKwWj72th"
      },
      "execution_count": null,
      "outputs": []
    }
  ],
  "metadata": {
    "colab": {
      "provenance": []
    },
    "kernelspec": {
      "display_name": "Python 3",
      "name": "python3"
    },
    "language_info": {
      "name": "python"
    }
  },
  "nbformat": 4,
  "nbformat_minor": 0
}